{
 "cells": [
  {
   "cell_type": "code",
   "execution_count": 7,
   "metadata": {},
   "outputs": [],
   "source": [
    "import torch\n",
    "import numpy as np\n",
    "\n",
    "_ = torch.manual_seed(0)"
   ]
  },
  {
   "cell_type": "code",
   "execution_count": 12,
   "metadata": {},
   "outputs": [
    {
     "name": "stdout",
     "output_type": "stream",
     "text": [
      "tensor([[-4.2555e-01, -2.6661e-01, -3.2443e-01,  4.7722e-02,  4.0440e-01,\n",
      "          5.6191e-01, -9.8043e-01, -2.7147e-01, -5.4434e-01, -8.7092e-01],\n",
      "        [-4.0608e-01, -5.6490e-01, -5.7772e-01,  7.8677e-02,  7.9017e-01,\n",
      "          5.5163e-01, -1.2271e+00, -2.7964e-01, -6.1166e-01, -1.5369e+00],\n",
      "        [ 6.0397e-01, -3.4055e-01, -1.6040e-01,  9.0012e-03,  3.6212e-01,\n",
      "         -7.6178e-01,  7.1634e-01,  3.3763e-01,  5.5900e-01, -3.9835e-01],\n",
      "        [ 7.0269e-02,  1.0773e-03,  1.6484e-02, -3.2965e-03, -1.0860e-02,\n",
      "         -9.0653e-02,  1.2156e-01,  4.1980e-02,  7.7127e-02,  4.6177e-02],\n",
      "        [-3.1517e-01,  3.2542e-01,  2.1126e-01, -2.0462e-02, -3.8128e-01,\n",
      "          3.9018e-01, -2.3510e-01, -1.6639e-01, -2.4782e-01,  5.4367e-01],\n",
      "        [-1.2688e+00,  1.9262e-01, -1.1449e-01,  3.6885e-02, -8.0045e-02,\n",
      "          1.6263e+00, -1.9958e+00, -7.4392e-01, -1.3296e+00, -3.5163e-01],\n",
      "        [ 4.9027e-01, -3.1629e-01, -1.6463e-01,  1.1561e-02,  3.4584e-01,\n",
      "         -6.1639e-01,  5.4406e-01,  2.7143e-01,  4.4192e-01, -4.1397e-01],\n",
      "        [-2.5690e-01,  4.1438e-01,  3.0099e-01, -3.2595e-02, -5.0496e-01,\n",
      "          3.1064e-01, -5.1587e-02, -1.2575e-01, -1.5771e-01,  7.8219e-01],\n",
      "        [-7.8357e-01, -1.0469e-01, -2.6384e-01,  4.6649e-02,  2.4176e-01,\n",
      "          1.0155e+00, -1.4426e+00, -4.7426e-01, -8.8756e-01, -7.2560e-01],\n",
      "        [ 1.4803e+00, -1.3561e+00, -8.4347e-01,  7.7716e-02,  1.5665e+00,\n",
      "         -1.8412e+00,  1.2661e+00,  7.9298e-01,  1.2152e+00, -2.1618e+00]])\n"
     ]
    }
   ],
   "source": [
    "d , k  = 10,10\n",
    "\n",
    "W_rank = 2\n",
    "\n",
    "W = torch.randn(d,W_rank) @ torch.randn(W_rank,k)\n",
    "\n",
    "print(W)"
   ]
  },
  {
   "cell_type": "code",
   "execution_count": 13,
   "metadata": {},
   "outputs": [
    {
     "name": "stdout",
     "output_type": "stream",
     "text": [
      "this is the rank of the matrix :  2\n"
     ]
    }
   ],
   "source": [
    "W_rank = np.linalg.matrix_rank(W)\n",
    "\n",
    "print(\"this is the rank of the matrix : \", W_rank)\n"
   ]
  },
  {
   "cell_type": "code",
   "execution_count": 14,
   "metadata": {},
   "outputs": [],
   "source": [
    "U , S , V = torch.svd(W)\n",
    "\n",
    "U_r = U[: , :W_rank]\n",
    "\n",
    "S_r = torch.diag(S[:W_rank])\n",
    "V_r = V[: , :W_rank].t()\n",
    "\n",
    "B = U_r @ S_r\n",
    "\n",
    "A = V_r\n",
    "\n"
   ]
  },
  {
   "cell_type": "code",
   "execution_count": 15,
   "metadata": {},
   "outputs": [
    {
     "name": "stdout",
     "output_type": "stream",
     "text": [
      "torch.Size([10, 2])\n",
      "torch.Size([2, 10])\n"
     ]
    }
   ],
   "source": [
    "print(B.shape)\n",
    "\n",
    "print(A.shape)"
   ]
  },
  {
   "cell_type": "code",
   "execution_count": 16,
   "metadata": {},
   "outputs": [
    {
     "name": "stdout",
     "output_type": "stream",
     "text": [
      "original y :  tensor([-0.4350, -0.1676,  2.1322, -0.8609, -0.5984, -3.5083,  1.9758, -1.4298,\n",
      "        -1.7161,  7.3588])\n",
      "\n",
      "y computed using BA :  tensor([-0.4350, -0.1676,  2.1322, -0.8609, -0.5984, -3.5083,  1.9758, -1.4298,\n",
      "        -1.7161,  7.3588])\n"
     ]
    }
   ],
   "source": [
    "bias = torch.randn(d)\n",
    "x = torch.randn(d)\n",
    "\n",
    "y = W @ x +bias\n",
    "\n",
    "y_prime = ( B @ A) @ x + bias\n",
    "\n",
    "print(\"original y : \" , y)\n",
    "\n",
    "print(\"\")\n",
    "\n",
    "print(\"y computed using BA : \" , y_prime)"
   ]
  },
  {
   "cell_type": "code",
   "execution_count": 17,
   "metadata": {},
   "outputs": [
    {
     "name": "stdout",
     "output_type": "stream",
     "text": [
      "Total parameters of W:  100\n",
      "Total parameters of B and A:  40\n"
     ]
    }
   ],
   "source": [
    "print(\"Total parameters of W: \", W.nelement())\n",
    "print(\"Total parameters of B and A: \", B.nelement() + A.nelement())"
   ]
  },
  {
   "cell_type": "code",
   "execution_count": null,
   "metadata": {},
   "outputs": [],
   "source": []
  }
 ],
 "metadata": {
  "kernelspec": {
   "display_name": "AI702",
   "language": "python",
   "name": "python3"
  },
  "language_info": {
   "codemirror_mode": {
    "name": "ipython",
    "version": 3
   },
   "file_extension": ".py",
   "mimetype": "text/x-python",
   "name": "python",
   "nbconvert_exporter": "python",
   "pygments_lexer": "ipython3",
   "version": "3.12.1"
  }
 },
 "nbformat": 4,
 "nbformat_minor": 2
}
